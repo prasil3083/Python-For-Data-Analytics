{
 "cells": [
  {
   "cell_type": "markdown",
   "id": "7ae23fa2-25d9-4222-8b97-38207d62e125",
   "metadata": {},
   "source": [
    "## Scraping Data From Real Website + Pandas"
   ]
  },
  {
   "cell_type": "code",
   "execution_count": null,
   "id": "0890e115-5118-4861-9ecb-7e696c585f0b",
   "metadata": {},
   "outputs": [],
   "source": [
    "from bs4 import BeautifulSoup as bs\n",
    "import requests as rq\n",
    "import pandas as pd"
   ]
  },
  {
   "cell_type": "code",
   "execution_count": null,
   "id": "045d9a08-1548-4ebe-8597-8e98f1e6f4cd",
   "metadata": {},
   "outputs": [],
   "source": [
    "url = 'https://en.wikipedia.org/wiki/List_of_largest_companies_in_the_United_States_by_revenue'\n",
    "page = rq.get(url)\n",
    "soup = bs(page.text,'html')"
   ]
  },
  {
   "cell_type": "code",
   "execution_count": null,
   "id": "db8b8c11-4f21-4c93-b4e9-a2bbc3f2018b",
   "metadata": {},
   "outputs": [],
   "source": [
    "table = soup.find_all('table')[0]"
   ]
  },
  {
   "cell_type": "code",
   "execution_count": null,
   "id": "36a9b02e-db63-4df7-8fb2-40bb3940081f",
   "metadata": {},
   "outputs": [],
   "source": [
    "world_title = table.find_all('th')\n",
    "world_table_titles = [title.text.strip() for title in world_title]"
   ]
  },
  {
   "cell_type": "code",
   "execution_count": null,
   "id": "038b7781-4843-4207-9a45-fdb3254acf28",
   "metadata": {},
   "outputs": [],
   "source": [
    "df = pd.DataFrame(columns = world_table_title)"
   ]
  },
  {
   "cell_type": "code",
   "execution_count": null,
   "id": "38a7d616-ee62-45a6-930e-21c4345d28ef",
   "metadata": {},
   "outputs": [],
   "source": [
    "columns_data = table.find_all('tr')"
   ]
  },
  {
   "cell_type": "code",
   "execution_count": 87,
   "id": "c43926a9-96cb-4eb6-9645-6d56ff1401d9",
   "metadata": {},
   "outputs": [],
   "source": [
    "for row in columns_data[1:]:\n",
    "    row_data = row.find_all('td')\n",
    "    individual_raw_data = [data.text.strip() for data in row_data]\n",
    "    \n",
    "    def_len = len(df)\n",
    "    df.loc[def_len] = individual_raw_data"
   ]
  },
  {
   "cell_type": "code",
   "execution_count": 91,
   "id": "2412e8d7-a07e-4a63-bfde-c2ed94458c43",
   "metadata": {},
   "outputs": [],
   "source": [
    "df.to_csv(r'D:\\Data anlytics Bootcamp\\Python For DataAnalytics\\Companies.csv' , index = 0)"
   ]
  }
 ],
 "metadata": {
  "kernelspec": {
   "display_name": "Python 3 (ipykernel)",
   "language": "python",
   "name": "python3"
  },
  "language_info": {
   "codemirror_mode": {
    "name": "ipython",
    "version": 3
   },
   "file_extension": ".py",
   "mimetype": "text/x-python",
   "name": "python",
   "nbconvert_exporter": "python",
   "pygments_lexer": "ipython3",
   "version": "3.12.5"
  }
 },
 "nbformat": 4,
 "nbformat_minor": 5
}
